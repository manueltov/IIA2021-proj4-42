{
 "cells": [
  {
   "cell_type": "markdown",
   "metadata": {},
   "source": [
    "#  Aprendizagem Automática\n",
    "## Projeto nº 4\n",
    "### Introdução à Inteligência Artificial - edição 2020/21\n",
    "\n",
    "## Grupo: 42\n",
    "\n",
    "### Elementos do Grupo\n",
    "\n",
    "Nome: Ivo Veiga\n",
    "\n",
    "Número: 44865\n",
    "\n",
    "Nome: João Silva\n",
    "\n",
    "Número: 48782\n",
    "\n",
    "Nome: Manuel Tovar\n",
    "\n",
    "Número: 49522"
   ]
  },
  {
   "cell_type": "markdown",
   "metadata": {},
   "source": [
    "## Relatório"
   ]
  },
  {
   "cell_type": "markdown",
   "metadata": {},
   "source": [
    "Imports dos módulos necessários:"
   ]
  },
  {
   "cell_type": "code",
   "execution_count": 1,
   "metadata": {},
   "outputs": [],
   "source": [
    "from sklearn.tree import DecisionTreeClassifier, plot_tree # árvore de decisão\n",
    "from sklearn.neighbors import KNeighborsClassifier # k-NN\n",
    "from sklearn.model_selection import train_test_split, cross_val_score # cross-validation\n",
    "import numpy as np \n",
    "import matplotlib.pyplot as plt # gráficos\n",
    "from utilsAA import *"
   ]
  },
  {
   "cell_type": "markdown",
   "metadata": {},
   "source": [
    "### 1. Carregar o conjunto de dados\n",
    "Carregam-se os dados no ficheiro `airline.csv` usando a função `load_data` do módulo `utilsAA`. Como é o conjunto de treino, a opção `testdata = False` é usada (por defeito)."
   ]
  },
  {
   "cell_type": "code",
   "execution_count": 2,
   "metadata": {},
   "outputs": [],
   "source": [
    "table_X, table_y, features, target = load_data(\"airline.csv\")"
   ]
  },
  {
   "cell_type": "markdown",
   "metadata": {},
   "source": [
    "Os dados devem ter 778 linhas e 19 colunas:"
   ]
  },
  {
   "cell_type": "code",
   "execution_count": 3,
   "metadata": {},
   "outputs": [
    {
     "name": "stdout",
     "output_type": "stream",
     "text": [
      "(778, 19)\n"
     ]
    }
   ],
   "source": [
    "print(table_X.shape)"
   ]
  },
  {
   "cell_type": "markdown",
   "metadata": {},
   "source": [
    "Exemplos dos 4 primeiros datapoints carregados:"
   ]
  },
  {
   "cell_type": "code",
   "execution_count": 4,
   "metadata": {},
   "outputs": [
    {
     "name": "stdout",
     "output_type": "stream",
     "text": [
      "Os dados: \n",
      "[[29 'Male' 'Loyal Customer' 22 'Personal Travel' 'Eco' 2342 3 3 3 3 1 3\n",
      "  2 4 3 4 2 3]\n",
      " [100 'Female' 'Loyal Customer' 16 'Personal Travel' 'Eco' 332 2 2 3 2 4\n",
      "  3 5 4 5 4 4 3]\n",
      " [124 'Male' 'Loyal Customer' 62 'Personal Travel' 'Eco' 2521 4 4 4 1 1 5\n",
      "  3 5 4 1 4 1]\n",
      " [351 'Female' 'Loyal Customer' 34 'Business travel' 'Business' 1825 2 2\n",
      "  3 3 5 5 5 4 5 3 5 3]]\n",
      "\n",
      "As correspondentes classes:  ['neutral or dissatisfied' 'neutral or dissatisfied'\n",
      " 'neutral or dissatisfied' 'satisfied']\n",
      "\n",
      "Os nomes dos atributos:  ['Client id' 'Gender' 'Customer Type' 'Age' 'Type of Travel' 'Class'\n",
      " 'Flight Distance' 'Inflight wifi service' 'Ease of Online booking'\n",
      " 'Food and drink' 'Online boarding' 'Seat comfort'\n",
      " 'Inflight entertainment' 'On-board service' 'Leg room service'\n",
      " 'Baggage handling' 'Checkin service' 'Inflight service' 'Cleanliness']\n",
      "\n",
      "O nome da classe:  satisfaction\n"
     ]
    }
   ],
   "source": [
    "print(\"Os dados: \", table_X[:4], sep='\\n')\n",
    "print(\"\\nAs correspondentes classes: \", table_y[:4])\n",
    "print(\"\\nOs nomes dos atributos: \", features)\n",
    "print(\"\\nO nome da classe: \", target)"
   ]
  },
  {
   "cell_type": "markdown",
   "metadata": {},
   "source": [
    " "
   ]
  },
  {
   "cell_type": "markdown",
   "metadata": {},
   "source": [
    "### 2. Processar os dados\n",
    "Como `Client id` é apenas um identificador do cliente, não é relevante para o modelo e é por isso removido."
   ]
  },
  {
   "cell_type": "code",
   "execution_count": 5,
   "metadata": {},
   "outputs": [
    {
     "data": {
      "text/plain": [
       "array([['Male', 'Loyal Customer', 22, 'Personal Travel', 'Eco', 2342, 3,\n",
       "        3, 3, 3, 1, 3, 2, 4, 3, 4, 2, 3],\n",
       "       ['Female', 'Loyal Customer', 16, 'Personal Travel', 'Eco', 332, 2,\n",
       "        2, 3, 2, 4, 3, 5, 4, 5, 4, 4, 3],\n",
       "       ['Male', 'Loyal Customer', 62, 'Personal Travel', 'Eco', 2521, 4,\n",
       "        4, 4, 1, 1, 5, 3, 5, 4, 1, 4, 1],\n",
       "       ['Female', 'Loyal Customer', 34, 'Business travel', 'Business',\n",
       "        1825, 2, 2, 3, 3, 5, 5, 5, 4, 5, 3, 5, 3]], dtype=object)"
      ]
     },
     "execution_count": 5,
     "metadata": {},
     "output_type": "execute_result"
    }
   ],
   "source": [
    "tab_X = table_X[:,1:]\n",
    "tab_X[:4]"
   ]
  },
  {
   "cell_type": "code",
   "execution_count": 6,
   "metadata": {},
   "outputs": [
    {
     "data": {
      "text/plain": [
       "array(['Gender', 'Customer Type', 'Age', 'Type of Travel', 'Class',\n",
       "       'Flight Distance', 'Inflight wifi service',\n",
       "       'Ease of Online booking', 'Food and drink', 'Online boarding',\n",
       "       'Seat comfort', 'Inflight entertainment', 'On-board service',\n",
       "       'Leg room service', 'Baggage handling', 'Checkin service',\n",
       "       'Inflight service', 'Cleanliness'], dtype=object)"
      ]
     },
     "execution_count": 6,
     "metadata": {},
     "output_type": "execute_result"
    }
   ],
   "source": [
    "feats = features[1:]\n",
    "feats"
   ]
  },
  {
   "cell_type": "markdown",
   "metadata": {},
   "source": [
    "Assim, há menos uma coluna, ou seja, 18 colunas para 18 atributos."
   ]
  },
  {
   "cell_type": "code",
   "execution_count": 7,
   "metadata": {},
   "outputs": [
    {
     "name": "stdout",
     "output_type": "stream",
     "text": [
      "(778, 18)\n",
      "18\n"
     ]
    }
   ],
   "source": [
    "print(tab_X.shape)\n",
    "print(len(feats))"
   ]
  },
  {
   "cell_type": "markdown",
   "metadata": {},
   "source": [
    "Os atributos categóricos terão de ser convertidos para numéricos de modo a que os algoritmos do scikit-learn os possam usar. \n",
    "\n",
    "Dos atributos categóricos, aqueles com apenas dois valores possíveis serão convertidos para os números 0 ou 1 usando a função `encode_feature`. De modo a manter o significado categórico dos atributos, aqueles com 3 ou mais valores possíveis não poderão ser convertidos para valores numéricos que impliquem um outro significado que não o categórico (ex. ordem, importância, magnitude). Será por isso aplicado aos atributos com 3 ou mais valores o processo de *one hot encoding* usando a função `one_hot_encode_feature`.\n",
    "\n",
    "Para descobrir o número de valores possíveis de cada atributo é usada a função `unique` do módulo `numpy`.\n",
    "\n",
    "Este processo é automatizado na função `process_data`:"
   ]
  },
  {
   "cell_type": "code",
   "execution_count": 8,
   "metadata": {},
   "outputs": [],
   "source": [
    "def process_data(tab_X, feats):\n",
    "    temp_tabX = tab_X\n",
    "    temp_feats = feats\n",
    "    temp_col = None\n",
    "\n",
    "    num_feats = len(temp_feats)\n",
    "    col = 0\n",
    "\n",
    "    while col < num_feats:\n",
    "        temp_col = temp_tabX[:,col] #para cada atributo\n",
    "        if type(temp_col[0]) == str: #se é categórico\n",
    "            if len(np.unique(temp_col)) > 2:\n",
    "                #se >2 valores possíveis faz one hot encode\n",
    "                temp_tabX, temp_feats = one_hot_encode_feature(temp_tabX, col, temp_feats)            \n",
    "                col -= 1 #one_hot_encode_feature remove uma coluna\n",
    "                num_feats -= 1 #não repetir iterações\n",
    "            else:\n",
    "                #se 2 valores possíveis usa label encode\n",
    "                temp_tabX[:,col] = encode_feature(temp_tabX[:,col])    \n",
    "        col += 1\n",
    "        \n",
    "    return temp_tabX, temp_feats"
   ]
  },
  {
   "cell_type": "markdown",
   "metadata": {},
   "source": [
    "E executado da seguinte maneira:"
   ]
  },
  {
   "cell_type": "code",
   "execution_count": 9,
   "metadata": {},
   "outputs": [
    {
     "name": "stdout",
     "output_type": "stream",
     "text": [
      "[[1.0 0.0 22 1.0 2342 3 3 3 3 1 3 2 4 3 4 2 3 0.0 1.0 0.0]\n",
      " [0.0 0.0 16 1.0 332 2 2 3 2 4 3 5 4 5 4 4 3 0.0 1.0 0.0]\n",
      " [1.0 0.0 62 1.0 2521 4 4 4 1 1 5 3 5 4 1 4 1 0.0 1.0 0.0]\n",
      " [0.0 0.0 34 0.0 1825 2 2 3 3 5 5 5 4 5 3 5 3 1.0 0.0 0.0]]\n",
      "['Gender' 'Customer Type' 'Age' 'Type of Travel' 'Flight Distance'\n",
      " 'Inflight wifi service' 'Ease of Online booking' 'Food and drink'\n",
      " 'Online boarding' 'Seat comfort' 'Inflight entertainment'\n",
      " 'On-board service' 'Leg room service' 'Baggage handling'\n",
      " 'Checkin service' 'Inflight service' 'Cleanliness' 'Business' 'Eco'\n",
      " 'Eco Plus']\n"
     ]
    }
   ],
   "source": [
    "tab_X, feats = process_data(tab_X, feats)\n",
    "\n",
    "print(tab_X[:4])\n",
    "print(feats)"
   ]
  },
  {
   "cell_type": "markdown",
   "metadata": {},
   "source": [
    "Os atributos 'Gender', 'Customer Type' e 'Type of Travel' foram convertidos para valores numéricos de 0 ou 1 e o atributo 'Class' foi desdobrado nos atributos 'Business', 'Eco' e 'Eco Plus' cujos nomes são os valores que 'Class' pode tomar e cujos valores são 0 ou 1.\n",
    "\n",
    "Sendo assim, os dados depois de processados têm 20 colunas (19 - 1 - 1 + 3)."
   ]
  },
  {
   "cell_type": "code",
   "execution_count": 10,
   "metadata": {},
   "outputs": [
    {
     "name": "stdout",
     "output_type": "stream",
     "text": [
      "(778, 20)\n",
      "20\n"
     ]
    }
   ],
   "source": [
    "print(tab_X.shape)\n",
    "print(len(feats))"
   ]
  },
  {
   "cell_type": "markdown",
   "metadata": {},
   "source": [
    " "
   ]
  },
  {
   "cell_type": "markdown",
   "metadata": {},
   "source": [
    "### 3. Procura do melhor modelo\n",
    "Serão testados os algoritmos árvores de decisão e k vizinhos mais próximos com diferentes combinações de parâmetros, sendo o melhor modelo aquele que obtiver maior accuracy nos testes de cross-validation.\n",
    "\n",
    "De modo a reduzir o espaço de procura para os parâmetros óptimos, será primeiro testado cada parâmetro isoladamente mostrando um gráfico da evolução da accuracy ao longo da variação do parâmetro.\n",
    "\n",
    "É usado o parâmetro `random_state` = 42 para que os resultados deste relatório sejam replicáveis."
   ]
  },
  {
   "cell_type": "markdown",
   "metadata": {},
   "source": [
    " "
   ]
  },
  {
   "cell_type": "markdown",
   "metadata": {},
   "source": [
    "#### Árvore de decisão\n",
    "Para o algoritmo árvore de decisão serão testados os parâmetros ``max_depth``, ``min_samples_split`` e ``min_samples_leaf``.\n",
    "\n",
    "Pode-se determinar o valor máximo a testar de `min_samples_split` visualizando o seu gráfico da accuracy. Para um dado valor do parâmetro, a sua accuracy é a média dos scores devolvidos pela função `cross_val_score` do scikit-learn, que treina um modelo e faz uma 10-fold cross-validation (cv=10). O gráfico irá mostrar valores de `min_samples_split` até ao número total de exemplares de treino (shape[0] é 778)."
   ]
  },
  {
   "cell_type": "code",
   "execution_count": 11,
   "metadata": {},
   "outputs": [
    {
     "data": {
      "image/png": "[encoded data removed]",
      "text/plain": [
       "<Figure size 1296x288 with 1 Axes>"
      ]
     },
     "metadata": {
      "needs_background": "light"
     },
     "output_type": "display_data"
    }
   ],
   "source": [
    "init_val = 2\n",
    "max_val = tab_X.shape[0] + 10\n",
    "\n",
    "cross_val_acc = []\n",
    "for i in range(init_val, max_val+1):\n",
    "    dtc = DecisionTreeClassifier(criterion='entropy', min_samples_split=i, random_state=42)\n",
    "    scores = cross_val_score(dtc, X=tab_X, y=table_y, cv=10, n_jobs=-1)\n",
    "    cross_val_acc.append(np.mean(scores)*100)\n",
    "\n",
    "x = np.arange(init_val, max_val+1, 1)\n",
    "fig, ax = plt.subplots()\n",
    "ax.plot(x, cross_val_acc, 'b.-')\n",
    "ax.set(xlabel='min_samples_split', ylabel='Accuracy (%)')\n",
    "ax.set_xticks(np.arange(0, max_val+1, 20))\n",
    "plt.grid()\n",
    "fig.set_size_inches(18, 4)\n",
    "plt.show()"
   ]
  },
  {
   "cell_type": "markdown",
   "metadata": {},
   "source": [
    "Apesar da grande queda de accuracy ser por volta dos 700 exemplos no mínimo por nó, os valores consistentemente mais altos são até por volta de 30:"
   ]
  },
  {
   "cell_type": "code",
   "execution_count": 12,
   "metadata": {},
   "outputs": [
    {
     "data": {
      "image/png": "[encoded data removed]",
      "text/plain": [
       "<Figure size 1296x288 with 1 Axes>"
      ]
     },
     "metadata": {
      "needs_background": "light"
     },
     "output_type": "display_data"
    }
   ],
   "source": [
    "x = np.arange(init_val, 32, 1)\n",
    "fig, ax = plt.subplots()\n",
    "ax.plot(x, cross_val_acc[:30], 'b.-')\n",
    "ax.set(xlabel='min_samples_split', ylabel='Accuracy (%)')\n",
    "ax.set_xticks(np.arange(0, 32, 1))\n",
    "plt.grid()\n",
    "fig.set_size_inches(18, 4)\n",
    "plt.show()"
   ]
  },
  {
   "cell_type": "markdown",
   "metadata": {},
   "source": [
    "De modo a ter variação suficiente, `min_samples_split` será testado entre 2 e `max_min_samples_split`=25. 25 vem imediatamente a seguir a um máximo local, após o qual a accuracy nunca mais irá tomar valores maiores e é suficientemente grande para produzir várias combinações."
   ]
  },
  {
   "cell_type": "code",
   "execution_count": 13,
   "metadata": {},
   "outputs": [],
   "source": [
    "max_min_samples_split = 25"
   ]
  },
  {
   "cell_type": "markdown",
   "metadata": {},
   "source": [
    "Quanto a `min_samples_leaf`, o processo é identico ao anterior."
   ]
  },
  {
   "cell_type": "code",
   "execution_count": 14,
   "metadata": {},
   "outputs": [
    {
     "data": {
      "image/png": "[encoded data removed]",
      "text/plain": [
       "<Figure size 1296x288 with 1 Axes>"
      ]
     },
     "metadata": {
      "needs_background": "light"
     },
     "output_type": "display_data"
    }
   ],
   "source": [
    "init_val = 1\n",
    "max_val = tab_X.shape[0] + 10\n",
    "\n",
    "cross_val_acc = []\n",
    "for i in range(init_val, max_val+1):\n",
    "    dtc = DecisionTreeClassifier(criterion='entropy', min_samples_leaf=i, random_state=42)\n",
    "    scores = cross_val_score(dtc, X=tab_X, y=table_y, cv=10, n_jobs=-1)\n",
    "    cross_val_acc.append(np.mean(scores)*100)\n",
    "\n",
    "x = np.arange(init_val, max_val+1, 1)\n",
    "fig, ax = plt.subplots()\n",
    "ax.plot(x, cross_val_acc, 'b.-')\n",
    "ax.set(xlabel='min_samples_leaf', ylabel='Accuracy (%)')\n",
    "ax.set_xticks(np.arange(0, max_val+1, 20))\n",
    "plt.grid()\n",
    "fig.set_size_inches(18, 4)\n",
    "plt.show()"
   ]
  },
  {
   "cell_type": "markdown",
   "metadata": {},
   "source": [
    "Apesar da grande queda de accuracy ser por volta dos 350 exemplos no mínimo por folha, os valores consistentemente mais altos são até por volta de 20:"
   ]
  },
  {
   "cell_type": "code",
   "execution_count": 15,
   "metadata": {},
   "outputs": [
    {
     "data": {
      "image/png": "[encoded data removed]",
      "text/plain": [
       "<Figure size 1296x288 with 1 Axes>"
      ]
     },
     "metadata": {
      "needs_background": "light"
     },
     "output_type": "display_data"
    }
   ],
   "source": [
    "x = np.arange(init_val, 21, 1)\n",
    "fig, ax = plt.subplots()\n",
    "ax.plot(x, cross_val_acc[:20], 'b.-')\n",
    "ax.set(xlabel='min_samples_leaf', ylabel='Accuracy (%)')\n",
    "ax.set_xticks(np.arange(0, 21, 1))\n",
    "plt.grid()\n",
    "fig.set_size_inches(18, 4)\n",
    "plt.show()"
   ]
  },
  {
   "cell_type": "markdown",
   "metadata": {},
   "source": [
    "Ainda que a melhor accuracy conseguida tenha sido com `min_samples_leaf`=2, de modo a ter variação suficiente neste parâmetro, `min_samples_leaf` será testado entre 1 e `max_min_samples_leaf`=12. 12 vem imediatamente a seguir a um máximo local, após o qual a accuracy nunca mais irá tomar valores maiores e é suficientemente grande para produzir várias combinações."
   ]
  },
  {
   "cell_type": "code",
   "execution_count": 16,
   "metadata": {},
   "outputs": [],
   "source": [
    "max_min_samples_leaf = 12"
   ]
  },
  {
   "cell_type": "markdown",
   "metadata": {},
   "source": [
    "No caso de ``max_depth``, os outros dois parâmetros vão influenciar a profundidade da árvore de modo que quanto maiores menos profunda a árvore. Assim, o tamanho máximo da árvore pode ser obtido usando os valores por defeito da classe ``DecisionTreeClassifier``, que são os valores mínimos viáveis para a execução do algoritmo."
   ]
  },
  {
   "cell_type": "code",
   "execution_count": 17,
   "metadata": {},
   "outputs": [
    {
     "name": "stdout",
     "output_type": "stream",
     "text": [
      "12\n"
     ]
    }
   ],
   "source": [
    "dtc = DecisionTreeClassifier(criterion='entropy', random_state=42)\n",
    "dtc.fit(tab_X,table_y)\n",
    "\n",
    "max_max_depth = dtc.get_depth()\n",
    "print(max_max_depth)"
   ]
  },
  {
   "cell_type": "markdown",
   "metadata": {},
   "source": [
    "À semelhança do que foi feito para os outros dois parâmetros, pode-se usar o gráfico da evolução da accuracy para determinar o valor mínimo com que se começa a variar `max_depth`."
   ]
  },
  {
   "cell_type": "code",
   "execution_count": 18,
   "metadata": {},
   "outputs": [
    {
     "data": {
      "image/png": "[encoded data removed]",
      "text/plain": [
       "<Figure size 1296x288 with 1 Axes>"
      ]
     },
     "metadata": {
      "needs_background": "light"
     },
     "output_type": "display_data"
    }
   ],
   "source": [
    "init_val = 1\n",
    "max_val = max_max_depth + 2\n",
    "\n",
    "cross_val_acc = []\n",
    "for i in range(init_val, max_val):\n",
    "    dtc = DecisionTreeClassifier(criterion='entropy', max_depth=i, random_state=42)\n",
    "    scores = cross_val_score(dtc, X=tab_X, y=table_y, cv=10, n_jobs=-1)\n",
    "    cross_val_acc.append(np.mean(scores)*100)\n",
    "\n",
    "x = np.arange(init_val, max_val, 1)\n",
    "fig, ax = plt.subplots()\n",
    "ax.plot(x, cross_val_acc, 'b.-')\n",
    "ax.set(xlabel='max_depth', ylabel='Accuracy (%)')\n",
    "ax.set_xticks(np.arange(0, max_val, 1))\n",
    "plt.grid()\n",
    "fig.set_size_inches(18, 4)\n",
    "plt.show()"
   ]
  },
  {
   "cell_type": "markdown",
   "metadata": {},
   "source": [
    "O valor 3, por estar imediatamente antes de um máximo local, aparenta ser um bom valor mínimo.\n",
    "\n",
    "`max_depth` será então testado com valores entre `min_max_depth` (que é 3) e `max_max_depth` (12)."
   ]
  },
  {
   "cell_type": "code",
   "execution_count": 19,
   "metadata": {},
   "outputs": [],
   "source": [
    "min_max_depth = 3"
   ]
  },
  {
   "cell_type": "markdown",
   "metadata": {},
   "source": [
    "Para determinar o melhor modelo, será, para cada combinação dos três parâmetros analisados anteriormente, calculada a accuracy, que será a média dos scores devolvidos pela função `cross_val_score` fazendo 10-fold cross-validation (cv=10). Será escolhido o maior valor de accuracy e os respectivos parâmetros serão considerados como os óptimos a usar para o algoritmo árvores de decisão.\n",
    "\n",
    "Como determinado anteriormente, `max_depth` será variado entre `min_max_depth` (3) e `max_max_depth` (12), `min_samples_split` será variado entre 2 e `max_min_samples_split` (25) e `min_samples_leaf` será variado entre 1 e `max_min_samples_leaf` (12)."
   ]
  },
  {
   "cell_type": "code",
   "execution_count": 20,
   "metadata": {},
   "outputs": [
    {
     "name": "stdout",
     "output_type": "stream",
     "text": [
      "3 12 25 12\n"
     ]
    }
   ],
   "source": [
    "print(min_max_depth, max_max_depth, max_min_samples_split, max_min_samples_leaf)"
   ]
  },
  {
   "cell_type": "code",
   "execution_count": 21,
   "metadata": {},
   "outputs": [
    {
     "name": "stdout",
     "output_type": "stream",
     "text": [
      "3...4...5...6...7...8...9...10...11...12...\n",
      "Melhores valores:\n",
      "best_acc_score =  0.9048951048951048\n",
      "max_depth =  6\n",
      "min_samples_split =  12\n",
      "min_samples_leaf =  1\n",
      "Melhor modelo DTC:  DecisionTreeClassifier(criterion='entropy', max_depth=6, min_samples_split=12,\n",
      "                       random_state=42)\n"
     ]
    }
   ],
   "source": [
    "best_acc_score = 0\n",
    "best_max_depth = 0\n",
    "best_min_samples_split = 0\n",
    "best_min_samples_leaf = 0\n",
    "best_dtc = None\n",
    "\n",
    "for i in range(min_max_depth, max_max_depth + 1):\n",
    "    print(i, \"...\", end='', sep='')\n",
    "    for j in range(2, max_min_samples_split + 1):\n",
    "        for k in range(1, max_min_samples_leaf + 1):\n",
    "            dtc = DecisionTreeClassifier(criterion='entropy', max_depth=i, min_samples_split=j, min_samples_leaf=k, random_state=42)\n",
    "            scores = cross_val_score(dtc, X=tab_X, y=table_y, cv=10, n_jobs=-1)            \n",
    "            acc_score = np.mean(scores)   \n",
    "            if acc_score > best_acc_score:\n",
    "                best_dtc = dtc\n",
    "                best_acc_score = acc_score\n",
    "                best_max_depth = i\n",
    "                best_min_samples_split = j\n",
    "                best_min_samples_leaf = k\n",
    "\n",
    "print(\"\\nMelhores valores:\")\n",
    "print(\"best_acc_score = \", best_acc_score)\n",
    "print(\"max_depth = \", best_max_depth)\n",
    "print(\"min_samples_split = \", best_min_samples_split)\n",
    "print(\"min_samples_leaf = \", best_min_samples_leaf)\n",
    "print(\"Melhor modelo DTC: \", best_dtc)"
   ]
  },
  {
   "cell_type": "markdown",
   "metadata": {},
   "source": [
    "Os melhores valores dos parâmetros são então:\n",
    "- `max_depth` = 6\n",
    "- `min_samples_split` = 12\n",
    "- `min_samples_leaf`= 1"
   ]
  },
  {
   "cell_type": "markdown",
   "metadata": {},
   "source": [
    "Com estes valores, para o algoritmo árvore de decisão, obtém-se uma accuracy média de aproximadamente 90.48951% (com random_state=42 e 10-fold cross-validation). O melhor DecisionTreeClassifier é:"
   ]
  },
  {
   "cell_type": "code",
   "execution_count": 22,
   "metadata": {},
   "outputs": [
    {
     "data": {
      "text/plain": [
       "DecisionTreeClassifier(criterion='entropy', max_depth=6, min_samples_split=12,\n",
       "                       random_state=42)"
      ]
     },
     "execution_count": 22,
     "metadata": {},
     "output_type": "execute_result"
    }
   ],
   "source": [
    "best_dtc.fit(tab_X,table_y)\n",
    "best_dtc"
   ]
  },
  {
   "cell_type": "markdown",
   "metadata": {},
   "source": [
    "#### K vizinhos mais próximos\n",
    "Para o modelo usando o algoritmo k vizinhos mais próximos o processo é identico ao anterior, sendo que o único parâmetro a variar é o `n_neighbors`. O valor máximo de vizinhos a testar será o número de exemplos de treino e como será feita 10-fold cross-validation este número será 9/10 do conjunto total em `tab_X`."
   ]
  },
  {
   "cell_type": "code",
   "execution_count": 23,
   "metadata": {},
   "outputs": [
    {
     "data": {
      "image/png": "[encoded data removed]",
      "text/plain": [
       "<Figure size 1296x288 with 1 Axes>"
      ]
     },
     "metadata": {
      "needs_background": "light"
     },
     "output_type": "display_data"
    }
   ],
   "source": [
    "init_val = 1\n",
    "max_val = int(tab_X.shape[0] * 9/10)\n",
    "\n",
    "cross_val_acc = []\n",
    "for i in range(init_val, max_val+1):\n",
    "    knc = KNeighborsClassifier(n_neighbors=i, n_jobs=-1)\n",
    "    scores = cross_val_score(knc, X=tab_X, y=table_y, cv=10, n_jobs=-1)\n",
    "    cross_val_acc.append(np.mean(scores)*100)\n",
    "\n",
    "x = np.arange(init_val, max_val+1, 1)\n",
    "fig, ax = plt.subplots()\n",
    "ax.plot(x, cross_val_acc, 'b.-')\n",
    "ax.set(xlabel='n_neighbors', ylabel='Accuracy (%)')\n",
    "ax.set_xticks(np.arange(0, max_val+1, 20))\n",
    "plt.grid()\n",
    "fig.set_size_inches(18, 4)\n",
    "plt.show()"
   ]
  },
  {
   "cell_type": "markdown",
   "metadata": {},
   "source": [
    "Observa-se que o melhor valor de `n_neighbors` é aproximadamente 30. Pode-se confirmar o valor exato:"
   ]
  },
  {
   "cell_type": "code",
   "execution_count": 24,
   "metadata": {},
   "outputs": [
    {
     "name": "stdout",
     "output_type": "stream",
     "text": [
      "\n",
      "Melhores valores:\n",
      "best_acc_score =  0.6774225774225775\n",
      "n_neighbors =  30\n",
      "Melhor modelo KNC:  KNeighborsClassifier(n_jobs=-1, n_neighbors=30)\n"
     ]
    }
   ],
   "source": [
    "best_acc_score = 0\n",
    "best_n_neighbors = 0\n",
    "best_knc = None\n",
    "for i in range(10, 50):\n",
    "    knc = KNeighborsClassifier(n_neighbors=i, n_jobs=-1)\n",
    "    scores = cross_val_score(knc, X=tab_X, y=table_y, cv=10, n_jobs=-1)            \n",
    "    acc_score = np.mean(scores)   \n",
    "    if acc_score > best_acc_score:\n",
    "        best_knc = knc\n",
    "        best_acc_score = acc_score\n",
    "        best_n_neighbors = i            \n",
    "\n",
    "print(\"\\nMelhores valores:\")\n",
    "print(\"best_acc_score = \", best_acc_score)\n",
    "print(\"n_neighbors = \", best_n_neighbors)\n",
    "print(\"Melhor modelo KNC: \", best_knc)"
   ]
  },
  {
   "cell_type": "markdown",
   "metadata": {},
   "source": [
    "Para o algoritmo k vizinhos mais próximos, a melhor accuracy média obtida foi de aproximadamente 67.742% , com `n_neighbors` = 30."
   ]
  },
  {
   "cell_type": "code",
   "execution_count": 25,
   "metadata": {},
   "outputs": [
    {
     "data": {
      "text/plain": [
       "KNeighborsClassifier(n_jobs=-1, n_neighbors=30)"
      ]
     },
     "execution_count": 25,
     "metadata": {},
     "output_type": "execute_result"
    }
   ],
   "source": [
    "best_knc"
   ]
  },
  {
   "cell_type": "markdown",
   "metadata": {},
   "source": [
    "Conclui-se então que, por apresentar maior accuracy média, o modelo usando o algoritmo árvore de decisão com parâmetros `max_depth` = 6, `min_samples_split` = 12 e `min_samples_leaf`= 1 é o melhor a aplicar ao conjunto de dados `airline.csv`:"
   ]
  },
  {
   "cell_type": "code",
   "execution_count": 26,
   "metadata": {},
   "outputs": [
    {
     "data": {
      "text/plain": [
       "DecisionTreeClassifier(criterion='entropy', max_depth=6, min_samples_split=12,\n",
       "                       random_state=42)"
      ]
     },
     "execution_count": 26,
     "metadata": {},
     "output_type": "execute_result"
    }
   ],
   "source": [
    "best_dtc"
   ]
  },
  {
   "cell_type": "markdown",
   "metadata": {},
   "source": [
    " "
   ]
  },
  {
   "cell_type": "markdown",
   "metadata": {},
   "source": [
    "### 4. Gravar as previsões para o conjunto de teste fornecido\n",
    "Usando o melhor modelo criado anteriormente (`best_dtc`) serão feitas as previsões das classes dos dados de teste em `test.csv`.\n",
    "\n",
    "Carregamento do ficheiro `test.csv`, que como é um conjunto de dados de teste, será feito usando a opção `testdata`=True:"
   ]
  },
  {
   "cell_type": "code",
   "execution_count": 27,
   "metadata": {},
   "outputs": [],
   "source": [
    "table_X, features = load_data(\"test.csv\", testdata=True)"
   ]
  },
  {
   "cell_type": "markdown",
   "metadata": {},
   "source": [
    "Os dados devem ter 260 linhas e 19 colunas:"
   ]
  },
  {
   "cell_type": "code",
   "execution_count": 28,
   "metadata": {},
   "outputs": [
    {
     "name": "stdout",
     "output_type": "stream",
     "text": [
      "(260, 19)\n",
      "19\n"
     ]
    }
   ],
   "source": [
    "print(table_X.shape)\n",
    "print(len(features))"
   ]
  },
  {
   "cell_type": "markdown",
   "metadata": {},
   "source": [
    "Exemplos dos 4 primeiros datapoints carregados:"
   ]
  },
  {
   "cell_type": "code",
   "execution_count": 29,
   "metadata": {},
   "outputs": [
    {
     "name": "stdout",
     "output_type": "stream",
     "text": [
      "Os dados: \n",
      "[[98915 'Female' 'Loyal Customer' 26 'Personal Travel' 'Eco' 1569 1 1 3 1\n",
      "  3 3 3 2 4 4 4 3]\n",
      " [42606 'Female' 'Loyal Customer' 39 'Personal Travel' 'Eco' 964 4 4 2 4\n",
      "  2 2 5 3 4 5 4 2]\n",
      " [99566 'Female' 'Loyal Customer' 63 'Personal Travel' 'Eco' 163 1 1 3 4\n",
      "  5 1 1 1 1 3 1 3]\n",
      " [33105 'Male' 'disloyal Customer' 27 'Business travel' 'Eco Plus' 2454 2\n",
      "  2 2 2 2 2 4 1 2 2 4 2]]\n",
      "\n",
      "Os nomes dos atributos:  ['Client id' 'Gender' 'Customer Type' 'Age' 'Type of Travel' 'Class'\n",
      " 'Flight Distance' 'Inflight wifi service' 'Ease of Online booking'\n",
      " 'Food and drink' 'Online boarding' 'Seat comfort'\n",
      " 'Inflight entertainment' 'On-board service' 'Leg room service'\n",
      " 'Baggage handling' 'Checkin service' 'Inflight service' 'Cleanliness']\n"
     ]
    }
   ],
   "source": [
    "print(\"Os dados: \", table_X[:4], sep='\\n')\n",
    "print(\"\\nOs nomes dos atributos: \", features)"
   ]
  },
  {
   "cell_type": "markdown",
   "metadata": {},
   "source": [
    "O mesmo tipo de processamento de dados usado nos dados de treino será aplicado aos dados de teste.\n",
    "\n",
    "Remoção da coluna 'Client id':"
   ]
  },
  {
   "cell_type": "code",
   "execution_count": 30,
   "metadata": {},
   "outputs": [
    {
     "name": "stdout",
     "output_type": "stream",
     "text": [
      "[['Female' 'Loyal Customer' 26 'Personal Travel' 'Eco' 1569 1 1 3 1 3 3 3\n",
      "  2 4 4 4 3]\n",
      " ['Female' 'Loyal Customer' 39 'Personal Travel' 'Eco' 964 4 4 2 4 2 2 5\n",
      "  3 4 5 4 2]\n",
      " ['Female' 'Loyal Customer' 63 'Personal Travel' 'Eco' 163 1 1 3 4 5 1 1\n",
      "  1 1 3 1 3]\n",
      " ['Male' 'disloyal Customer' 27 'Business travel' 'Eco Plus' 2454 2 2 2 2\n",
      "  2 2 4 1 2 2 4 2]]\n",
      "['Gender' 'Customer Type' 'Age' 'Type of Travel' 'Class' 'Flight Distance'\n",
      " 'Inflight wifi service' 'Ease of Online booking' 'Food and drink'\n",
      " 'Online boarding' 'Seat comfort' 'Inflight entertainment'\n",
      " 'On-board service' 'Leg room service' 'Baggage handling'\n",
      " 'Checkin service' 'Inflight service' 'Cleanliness']\n"
     ]
    }
   ],
   "source": [
    "tab_X = table_X[:,1:]\n",
    "print(tab_X[:4])\n",
    "feats = features[1:]\n",
    "print(feats)"
   ]
  },
  {
   "cell_type": "markdown",
   "metadata": {},
   "source": [
    "Conversão dos dados categóricos para dados numéricos:"
   ]
  },
  {
   "cell_type": "code",
   "execution_count": 31,
   "metadata": {},
   "outputs": [
    {
     "name": "stdout",
     "output_type": "stream",
     "text": [
      "[[0.0 0.0 26 1.0 1569 1 1 3 1 3 3 3 2 4 4 4 3 0.0 1.0 0.0]\n",
      " [0.0 0.0 39 1.0 964 4 4 2 4 2 2 5 3 4 5 4 2 0.0 1.0 0.0]\n",
      " [0.0 0.0 63 1.0 163 1 1 3 4 5 1 1 1 1 3 1 3 0.0 1.0 0.0]\n",
      " [1.0 1.0 27 0.0 2454 2 2 2 2 2 2 4 1 2 2 4 2 0.0 0.0 1.0]]\n",
      "['Gender' 'Customer Type' 'Age' 'Type of Travel' 'Flight Distance'\n",
      " 'Inflight wifi service' 'Ease of Online booking' 'Food and drink'\n",
      " 'Online boarding' 'Seat comfort' 'Inflight entertainment'\n",
      " 'On-board service' 'Leg room service' 'Baggage handling'\n",
      " 'Checkin service' 'Inflight service' 'Cleanliness' 'Business' 'Eco'\n",
      " 'Eco Plus']\n"
     ]
    }
   ],
   "source": [
    "tab_X, feats = process_data(tab_X, feats)\n",
    "\n",
    "print(tab_X[:4])\n",
    "print(feats)"
   ]
  },
  {
   "cell_type": "markdown",
   "metadata": {},
   "source": [
    "Tal como os dados treino, os dados de teste processados têm 20 colunas:"
   ]
  },
  {
   "cell_type": "code",
   "execution_count": 32,
   "metadata": {},
   "outputs": [
    {
     "name": "stdout",
     "output_type": "stream",
     "text": [
      "(260, 20)\n",
      "20\n"
     ]
    }
   ],
   "source": [
    "print(tab_X.shape)\n",
    "print(len(feats))"
   ]
  },
  {
   "cell_type": "markdown",
   "metadata": {},
   "source": [
    "Efetuam-se as previsões:"
   ]
  },
  {
   "cell_type": "code",
   "execution_count": 33,
   "metadata": {},
   "outputs": [],
   "source": [
    "pred = best_dtc.predict(tab_X)"
   ]
  },
  {
   "cell_type": "markdown",
   "metadata": {},
   "source": [
    "As 10 primeiras previsões das classes:"
   ]
  },
  {
   "cell_type": "code",
   "execution_count": 34,
   "metadata": {},
   "outputs": [
    {
     "data": {
      "text/plain": [
       "array(['neutral or dissatisfied', 'neutral or dissatisfied',\n",
       "       'neutral or dissatisfied', 'neutral or dissatisfied',\n",
       "       'neutral or dissatisfied', 'neutral or dissatisfied', 'satisfied',\n",
       "       'neutral or dissatisfied', 'neutral or dissatisfied',\n",
       "       'neutral or dissatisfied'], dtype=object)"
      ]
     },
     "execution_count": 34,
     "metadata": {},
     "output_type": "execute_result"
    }
   ],
   "source": [
    "pred[:10]"
   ]
  },
  {
   "cell_type": "markdown",
   "metadata": {},
   "source": [
    "Finalmente, usando a função `save_data`, guardam-se as previsões no ficheiro `IIA2021-proj4-42.csv`:"
   ]
  },
  {
   "cell_type": "code",
   "execution_count": 35,
   "metadata": {},
   "outputs": [],
   "source": [
    "save_data(\"IIA2021-proj4-42.csv\", pred)"
   ]
  },
  {
   "cell_type": "code",
   "execution_count": null,
   "metadata": {},
   "outputs": [],
   "source": []
  }
 ],
 "metadata": {
  "kernelspec": {
   "display_name": "Python 3",
   "language": "python",
   "name": "python3"
  },
  "language_info": {
   "codemirror_mode": {
    "name": "ipython",
    "version": 3
   },
   "file_extension": ".py",
   "mimetype": "text/x-python",
   "name": "python",
   "nbconvert_exporter": "python",
   "pygments_lexer": "ipython3",
   "version": "3.8.3"
  }
 },
 "nbformat": 4,
 "nbformat_minor": 4
}
